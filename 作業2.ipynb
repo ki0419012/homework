{
  "nbformat": 4,
  "nbformat_minor": 0,
  "metadata": {
    "colab": {
      "provenance": [],
      "authorship_tag": "ABX9TyP3XGy1ygChuyLFHCkCi+AH",
      "include_colab_link": true
    },
    "kernelspec": {
      "name": "python3",
      "display_name": "Python 3"
    },
    "language_info": {
      "name": "python"
    }
  },
  "cells": [
    {
      "cell_type": "markdown",
      "metadata": {
        "id": "view-in-github",
        "colab_type": "text"
      },
      "source": [
        "<a href=\"https://colab.research.google.com/github/ki0419012/homework/blob/main/%E4%BD%9C%E6%A5%AD2.ipynb\" target=\"_parent\"><img src=\"https://colab.research.google.com/assets/colab-badge.svg\" alt=\"Open In Colab\"/></a>"
      ]
    },
    {
      "cell_type": "code",
      "source": [
        "a = \"大道之行也，天  下為公。 選賢與能，講信  修睦。故人不獨親其親，不獨子其子；使老有所終，壯有 所用，幼有 所長，矜寡孤獨廢疾者，皆有所養；男有分 女有歸。貨惡其棄 於地也不必藏於  己；力惡其不  出於身也不必為己。是故 謀閉而不興 ，盜竊亂賊而不作，故外戶而 不閉，是謂「大同」。\"\n",
        "a = a.replace(\" \", \"\")\n",
        "print(\"文章共有\", num_chars, \"個字（包含標點符號）\")\n"
      ],
      "metadata": {
        "colab": {
          "base_uri": "https://localhost:8080/"
        },
        "id": "8WGNfDAcl6g9",
        "outputId": "4f705fc8-635b-42a2-cf4a-2c9a97b01ae5"
      },
      "execution_count": 22,
      "outputs": [
        {
          "output_type": "stream",
          "name": "stdout",
          "text": [
            "文章共有 127 個字（包含標點符號）\n"
          ]
        }
      ]
    },
    {
      "cell_type": "code",
      "source": [
        "a=\"\"\" 大道之行也，天  下為公。 選賢與能，講信  修睦。故人不獨親其親，不獨子其子；使老有所終，壯有 所用，幼有 所長，矜寡孤獨廢疾者，皆有所養；男有分 女有歸。貨惡其棄 於地也不必藏於  己；力惡其不  出於身也不必為己。是故 謀閉而不興 ，盜竊亂賊而不作，故外戶而 不閉，是謂「大同」。\"\"\"\n",
        "b=\"\\n\".join(a.split(\"，\"))\n",
        "c=\"\\n\".join(b.split(\"。\"))\n",
        "d=\"\\n\".join(c.split(\"；\"))\n",
        "\n",
        "print(d)\n"
      ],
      "metadata": {
        "colab": {
          "base_uri": "https://localhost:8080/"
        },
        "id": "VLtfru07k9ig",
        "outputId": "2440f377-cbbb-4548-960f-8c1ab2f3fcd8"
      },
      "execution_count": 26,
      "outputs": [
        {
          "output_type": "stream",
          "name": "stdout",
          "text": [
            " 大道之行也\n",
            "天  下為公\n",
            " 選賢與能\n",
            "講信  修睦\n",
            "故人不獨親其親\n",
            "不獨子其子\n",
            "使老有所終\n",
            "壯有 所用\n",
            "幼有 所長\n",
            "矜寡孤獨廢疾者\n",
            "皆有所養\n",
            "男有分 女有歸\n",
            "貨惡其棄 於地也不必藏於  己\n",
            "力惡其不  出於身也不必為己\n",
            "是故 謀閉而不興 \n",
            "盜竊亂賊而不作\n",
            "故外戶而 不閉\n",
            "是謂「大同」\n",
            "\n"
          ]
        }
      ]
    },
    {
      "cell_type": "code",
      "source": [
        "a = \"\"\"大道之行也，天  下為公。 選賢與能，講信  修睦。故人不獨親其親，不獨子其子；使老有所終，壯有 所用，幼有 所長，矜寡孤獨廢疾者，皆有所養；男有分 女有歸。貨惡其棄 於地也不必藏於  己；力惡其不  出於身也不必為己。是故 謀閉而不興 ，盜竊亂賊而不作，故外戶而 不閉，是謂「大同」。\"\"\"\n",
        "b = a.count('不')\n",
        "print(b)\n"
      ],
      "metadata": {
        "colab": {
          "base_uri": "https://localhost:8080/"
        },
        "id": "U2gLSif6mRZ6",
        "outputId": "84d82739-fb11-445f-bea0-cf54cd6eadf1"
      },
      "execution_count": 31,
      "outputs": [
        {
          "output_type": "stream",
          "name": "stdout",
          "text": [
            "8\n"
          ]
        }
      ]
    }
  ]
}