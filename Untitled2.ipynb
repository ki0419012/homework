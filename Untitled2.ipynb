{
  "nbformat": 4,
  "nbformat_minor": 0,
  "metadata": {
    "colab": {
      "provenance": [],
      "authorship_tag": "ABX9TyPD9k0CBNj3CDArQEzaCwDW",
      "include_colab_link": true
    },
    "kernelspec": {
      "name": "python3",
      "display_name": "Python 3"
    },
    "language_info": {
      "name": "python"
    }
  },
  "cells": [
    {
      "cell_type": "markdown",
      "metadata": {
        "id": "view-in-github",
        "colab_type": "text"
      },
      "source": [
        "<a href=\"https://colab.research.google.com/github/ki0419012/homework/blob/main/Untitled2.ipynb\" target=\"_parent\"><img src=\"https://colab.research.google.com/assets/colab-badge.svg\" alt=\"Open In Colab\"/></a>"
      ]
    },
    {
      "cell_type": "code",
      "execution_count": 10,
      "metadata": {
        "colab": {
          "base_uri": "https://localhost:8080/",
          "height": 52
        },
        "id": "wRim_u4QZuVD",
        "outputId": "164bb834-bb8c-47b9-b04c-c850a5318ae0"
      },
      "outputs": [
        {
          "output_type": "execute_result",
          "data": {
            "text/plain": [
              "'大道之行也，天下為公。選賢與能，講信修睦。故人不獨親其親，不獨子其子；使老有所終，壯有所用，幼有所長，矜寡孤獨廢疾者，皆有所養；男有分女有歸。貨惡其棄於地也不必藏於己；力惡其不出於身也不必為己。是故謀閉而不興，盜竊亂賊而不作，故外戶而不閉，是謂「大同」。'"
            ],
            "application/vnd.google.colaboratory.intrinsic+json": {
              "type": "string"
            }
          },
          "metadata": {},
          "execution_count": 10
        }
      ],
      "source": [
        "a = \"大道之行也，天  下為公。 選賢與能，講信  修睦。故人不獨親其親，不獨子其子；使老有所終，壯有 所用，幼有 所長，矜寡孤獨廢疾者，皆有所養；男有分 女有歸。貨惡其棄 於地也不必藏於  己；力惡其不  出於身也不必為己。是故 謀閉而不興 ，盜竊亂賊而不作，故外戶而 不閉，是謂「大同」。\"\n",
        "a.replace(\" \", \"\")"
      ]
    },
    {
      "cell_type": "code",
      "source": [],
      "metadata": {
        "id": "qkkPldH-irU5"
      },
      "execution_count": null,
      "outputs": []
    }
  ]
}