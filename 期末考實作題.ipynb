{
  "nbformat": 4,
  "nbformat_minor": 0,
  "metadata": {
    "colab": {
      "provenance": [],
      "authorship_tag": "ABX9TyMW/SrKNmM7uTjnlSyuDzJd",
      "include_colab_link": true
    },
    "kernelspec": {
      "name": "python3",
      "display_name": "Python 3"
    },
    "language_info": {
      "name": "python"
    }
  },
  "cells": [
    {
      "cell_type": "markdown",
      "metadata": {
        "id": "view-in-github",
        "colab_type": "text"
      },
      "source": [
        "<a href=\"https://colab.research.google.com/github/ki0419012/homework/blob/main/%E6%9C%9F%E6%9C%AB%E8%80%83%E5%AF%A6%E4%BD%9C%E9%A1%8C.ipynb\" target=\"_parent\"><img src=\"https://colab.research.google.com/assets/colab-badge.svg\" alt=\"Open In Colab\"/></a>"
      ]
    },
    {
      "cell_type": "code",
      "source": [
        "import math\n",
        "\n",
        "class City:\n",
        "    def __init__(self, name, x, y, accommodation_cost):\n",
        "        self.name = name\n",
        "        self.x = x\n",
        "        self.y = y\n",
        "        self.accommodation_cost = accommodation_cost\n",
        "\n",
        "def calculate_discounted_cost(previous_city, current_city):\n",
        "    if previous_city is None:\n",
        "        return current_city.accommodation_cost\n",
        "    elif previous_city.name in ['C', 'G'] and current_city.name == 'A':\n",
        "        return 0.8 * current_city.accommodation_cost\n",
        "    elif previous_city.name in ['D', 'E'] and current_city.name == 'B':\n",
        "        return 0.8 * current_city.accommodation_cost\n",
        "    elif previous_city.name in ['A', 'C'] and current_city.name == 'F':\n",
        "        return 0.8 * current_city.accommodation_cost\n",
        "    elif previous_city.name in ['E', 'F'] and current_city.name == 'G':\n",
        "        return 0.8 * current_city.accommodation_cost\n",
        "    else:\n",
        "        return current_city.accommodation_cost\n",
        "\n",
        "def calculate_distance(city1, city2):\n",
        "    return math.sqrt((city2.x - city1.x)**2 + (city2.y - city1.y)**2)\n",
        "\n",
        "def find_cheapest_travel_plan(cities):\n",
        "    start_city = cities[0]\n",
        "    current_city = start_city\n",
        "    travel_plan = [current_city]\n",
        "    total_cost = 0\n",
        "\n",
        "    while len(travel_plan) < len(cities):\n",
        "        remaining_cities = [city for city in cities if city not in travel_plan]\n",
        "        min_cost = float('inf')\n",
        "        next_city = None\n",
        "\n",
        "        for city in remaining_cities:\n",
        "            distance = calculate_distance(current_city, city)\n",
        "            cost = calculate_discounted_cost(current_city, city) + distance * 100\n",
        "\n",
        "            if cost < min_cost:\n",
        "                min_cost = cost\n",
        "                next_city = city\n",
        "\n",
        "        travel_plan.append(next_city)\n",
        "        total_cost += min_cost\n",
        "        current_city = next_city\n",
        "\n",
        "    total_cost += calculate_distance(current_city, start_city) * 100\n",
        "    travel_plan.append(start_city)\n",
        "\n",
        "    return travel_plan, total_cost\n",
        "\n",
        "# Create City objects\n",
        "cities = [\n",
        "    City('A', 0, 0, 2000),\n",
        "    City('B', 0, 120, 2400),\n",
        "    City('C', 30, 100, 2400),\n",
        "    City('D', 80, 0, 1600),\n",
        "    City('E', 45, 10, 1500),\n",
        "    City('F', 90, 160, 2200),\n",
        "    City('G', 120, 200, 1200)\n",
        "]\n",
        "\n",
        "# Find the cheapest travel plan\n",
        "travel_plan, total_cost = find_cheapest_travel_plan(cities)\n",
        "\n",
        "# Print the travel plan and total cost\n",
        "for city in travel_plan:\n",
        "    print(city.name, end=' ')\n",
        "print()\n",
        "print(\"Total cost:\", total_cost)\n"
      ],
      "metadata": {
        "id": "2SBzk9fUIrcJ",
        "outputId": "98dfe295-e10f-4c86-abf1-a158008ea391",
        "colab": {
          "base_uri": "https://localhost:8080/"
        }
      },
      "execution_count": null,
      "outputs": [
        {
          "output_type": "stream",
          "name": "stdout",
          "text": [
            "A E D C B F G A \n",
            "Total cost: 72268.38371742694\n"
          ]
        }
      ]
    }
  ]
}